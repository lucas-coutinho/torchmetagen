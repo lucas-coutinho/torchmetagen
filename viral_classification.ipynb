{
 "cells": [
  {
   "cell_type": "markdown",
   "metadata": {},
   "source": [
    "# Loading data and traing a viral classifier on metagenomic sequences of mosquitoes\n",
    "\n",
    "## Import dependencies "
   ]
  },
  {
   "cell_type": "code",
   "execution_count": 1,
   "metadata": {},
   "outputs": [],
   "source": [
    "import pandas as pd \n",
    "import numpy as np \n",
    "\n",
    "from torchmetagen.datasets.utils import FastaHandler, DatasetSplit, InflateDataset\n",
    "from torchmetagen.datasets import metagenomicdataset as meta\n",
    "from torchmetagen.models import DeepVirFinder, deepvirfinder\n",
    "from torchmetagen.transforms import *\n",
    "from torchvision import transforms as tf\n",
    "import torch\n",
    "\n",
    "from utils import *"
   ]
  },
  {
   "cell_type": "markdown",
   "metadata": {},
   "source": [
    "## Check for GPU devices"
   ]
  },
  {
   "cell_type": "code",
   "execution_count": 2,
   "metadata": {},
   "outputs": [],
   "source": [
    "device =  torch.device(\"cuda:0\" if torch.cuda.is_available() else \"cpu\")"
   ]
  },
  {
   "cell_type": "code",
   "execution_count": 3,
   "metadata": {},
   "outputs": [],
   "source": [
    "path_to_file = 'Dataset_v1_2'\n",
    "\n",
    "viral = FastaHandler(path_to_file, 'viral.fasta',)\n",
    "nonviral= FastaHandler(path_to_file, 'nonviral.fasta',)\n",
    "\n"
   ]
  },
  {
   "cell_type": "code",
   "execution_count": 4,
   "metadata": {},
   "outputs": [],
   "source": [
    "splitter = DatasetSplit({'train':0.7,'val':0.3 })\n",
    "\n",
    "viral_train, viral_test= splitter(viral)\n",
    "nonviral_train, nonviral_test= splitter(nonviral)\n"
   ]
  },
  {
   "cell_type": "code",
   "execution_count": 5,
   "metadata": {},
   "outputs": [],
   "source": [
    "\n",
    "inflate=InflateDataset(method='truncated', tol=0.5, chunk_size=500)\n",
    "\n",
    "viral_train_inflated = inflate(viral_train)\n",
    "viral_test_inflated = viral_test #inflate(viral_test)\n",
    "\n",
    "\n",
    "nonviral_train_inflated =  inflate(nonviral_train)\n",
    "nonviral_test_inflated = nonviral_test#inflate(nonviral_test)"
   ]
  },
  {
   "cell_type": "code",
   "execution_count": 6,
   "metadata": {},
   "outputs": [],
   "source": [
    "transforms_train=tf.Compose([\n",
    "    ReverseComplement(),\n",
    "    ToOneHot(['G','T', 'C', 'A']),\n",
    "    ToTensor('one-hot')\n",
    "])\n",
    "\n",
    "transforms_test=tf.Compose([\n",
    "    ReverseComplement(),\n",
    "    ToOneHot(['G','T', 'C', 'A']),\n",
    "    ToTensor('one-hot')\n",
    "])\n",
    "\n",
    "\n",
    "dataset_train= meta.MetagenomicSequenceData(pd.DataFrame({\"data\":np.concatenate((nonviral_train_inflated, viral_train_inflated)),\n",
    "                                                          \"class\":np.concatenate((np.repeat(\"nonviral\",len(nonviral_train_inflated)),\n",
    "                                                                                  np.repeat(\"viral\",len(viral_train_inflated))))}),\n",
    "                                                     labels=['nonviral', 'viral'], transform=transforms_train)\n",
    "\n",
    "dataset_test= meta.MetagenomicSequenceData(pd.DataFrame({\"data\":np.concatenate((nonviral_test_inflated, viral_test_inflated)),\n",
    "                                                         \"class\":np.concatenate((np.repeat(\"nonviral\",len(nonviral_test_inflated)),\n",
    "                                                                                 np.repeat(\"viral\",len(viral_test_inflated))))}),\n",
    "                                                     labels=['nonviral', 'viral'], transform=transforms_test)\n",
    "\n",
    "dataset={'train': dataset_train, 'val': dataset_test}\n",
    "dataset_sizes = {'train':len(dataset_train), 'val':len(dataset_test)}"
   ]
  },
  {
   "cell_type": "code",
   "execution_count": 7,
   "metadata": {},
   "outputs": [],
   "source": [
    "dataloaders = genDataLoader(dataset, {'train':250, 'val':1})"
   ]
  },
  {
   "cell_type": "code",
   "execution_count": 8,
   "metadata": {},
   "outputs": [],
   "source": [
    "model_torch = deepvirfinder(pretrained=False, progress=True, M = 1000, K = 10, N = 1000)\n"
   ]
  },
  {
   "cell_type": "code",
   "execution_count": 9,
   "metadata": {},
   "outputs": [
    {
     "name": "stdout",
     "output_type": "stream",
     "text": [
      "Epoch 0/0\n",
      "----------\n",
      "train Loss: 0.6962 Acc: 0.5067\n"
     ]
    },
    {
     "name": "stderr",
     "output_type": "stream",
     "text": [
      "[W NNPACK.cpp:53] Could not initialize NNPACK! Reason: Unsupported hardware.\n"
     ]
    },
    {
     "name": "stdout",
     "output_type": "stream",
     "text": [
      "val Loss: 0.6701 Acc: 0.8335\n",
      "\n",
      "Training complete in 1m 23s\n",
      "Best val Acc: 0.833521\n"
     ]
    }
   ],
   "source": [
    "\n",
    "#device =  torch.device(\"cuda:0\" if torch.cuda.is_available() else \"cpu\")\n",
    "optimizer = torch.optim.Adam(model_torch.parameters(), lr = 1e-4)\n",
    "criterion = torch.nn.BCELoss()\n",
    "scheduler = torch.optim.lr_scheduler.StepLR(optimizer,4)\n",
    "per_epoch, per_batch = train_model(model_torch.to(device), criterion, optimizer, \n",
    "                      scheduler, dataloaders, device, dataset_sizes, num_epochs=1)"
   ]
  },
  {
   "cell_type": "code",
   "execution_count": 10,
   "metadata": {},
   "outputs": [
    {
     "name": "stdout",
     "output_type": "stream",
     "text": [
      "Acc test_set: 0.8335\n"
     ]
    },
    {
     "data": {
      "text/html": [
       "<div>\n",
       "<style scoped>\n",
       "    .dataframe tbody tr th:only-of-type {\n",
       "        vertical-align: middle;\n",
       "    }\n",
       "\n",
       "    .dataframe tbody tr th {\n",
       "        vertical-align: top;\n",
       "    }\n",
       "\n",
       "    .dataframe thead th {\n",
       "        text-align: right;\n",
       "    }\n",
       "</style>\n",
       "<table border=\"1\" class=\"dataframe\">\n",
       "  <thead>\n",
       "    <tr style=\"text-align: right;\">\n",
       "      <th></th>\n",
       "      <th>0</th>\n",
       "      <th>1</th>\n",
       "      <th>accuracy</th>\n",
       "      <th>macro avg</th>\n",
       "      <th>weighted avg</th>\n",
       "    </tr>\n",
       "  </thead>\n",
       "  <tbody>\n",
       "    <tr>\n",
       "      <th>precision</th>\n",
       "      <td>0.834842</td>\n",
       "      <td>0.250000</td>\n",
       "      <td>0.833521</td>\n",
       "      <td>0.542421</td>\n",
       "      <td>0.738138</td>\n",
       "    </tr>\n",
       "    <tr>\n",
       "      <th>recall</th>\n",
       "      <td>0.997972</td>\n",
       "      <td>0.003413</td>\n",
       "      <td>0.833521</td>\n",
       "      <td>0.500692</td>\n",
       "      <td>0.833521</td>\n",
       "    </tr>\n",
       "    <tr>\n",
       "      <th>f1-score</th>\n",
       "      <td>0.909147</td>\n",
       "      <td>0.006734</td>\n",
       "      <td>0.833521</td>\n",
       "      <td>0.457940</td>\n",
       "      <td>0.759933</td>\n",
       "    </tr>\n",
       "    <tr>\n",
       "      <th>support</th>\n",
       "      <td>1479.000000</td>\n",
       "      <td>293.000000</td>\n",
       "      <td>0.833521</td>\n",
       "      <td>1772.000000</td>\n",
       "      <td>1772.000000</td>\n",
       "    </tr>\n",
       "  </tbody>\n",
       "</table>\n",
       "</div>"
      ],
      "text/plain": [
       "                     0           1  accuracy    macro avg  weighted avg\n",
       "precision     0.834842    0.250000  0.833521     0.542421      0.738138\n",
       "recall        0.997972    0.003413  0.833521     0.500692      0.833521\n",
       "f1-score      0.909147    0.006734  0.833521     0.457940      0.759933\n",
       "support    1479.000000  293.000000  0.833521  1772.000000   1772.000000"
      ]
     },
     "execution_count": 10,
     "metadata": {},
     "output_type": "execute_result"
    }
   ],
   "source": [
    "\n",
    "\n",
    "pd.DataFrame(evaluate(model_torch.to(device), dataloaders['val'], device))\n"
   ]
  }
 ],
 "metadata": {
  "interpreter": {
   "hash": "79a4b58126a7cc69aee3e4ce1f86bdb7e22000ba4d8493fe8461f341491e451f"
  },
  "kernelspec": {
   "display_name": "Python 3.7.6 64-bit ('base': conda)",
   "language": "python",
   "name": "python3"
  },
  "language_info": {
   "codemirror_mode": {
    "name": "ipython",
    "version": 3
   },
   "file_extension": ".py",
   "mimetype": "text/x-python",
   "name": "python",
   "nbconvert_exporter": "python",
   "pygments_lexer": "ipython3",
   "version": "3.9.16"
  },
  "metadata": {
   "interpreter": {
    "hash": "eec8eac285937831eaf55a324af314c8014d3f32e7d5b9fc0a7fa4a8002b4eb4"
   }
  },
  "orig_nbformat": 2
 },
 "nbformat": 4,
 "nbformat_minor": 2
}
