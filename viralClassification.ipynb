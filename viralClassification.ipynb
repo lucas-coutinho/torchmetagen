{
 "metadata": {
  "language_info": {
   "codemirror_mode": {
    "name": "ipython",
    "version": 3
   },
   "file_extension": ".py",
   "mimetype": "text/x-python",
   "name": "python",
   "nbconvert_exporter": "python",
   "pygments_lexer": "ipython3",
   "version": "3.7.6"
  },
  "orig_nbformat": 2,
  "kernelspec": {
   "name": "python376jvsc74a57bd0eec8eac285937831eaf55a324af314c8014d3f32e7d5b9fc0a7fa4a8002b4eb4",
   "display_name": "Python 3.7.6 64-bit ('base': conda)"
  },
  "metadata": {
   "interpreter": {
    "hash": "eec8eac285937831eaf55a324af314c8014d3f32e7d5b9fc0a7fa4a8002b4eb4"
   }
  }
 },
 "nbformat": 4,
 "nbformat_minor": 2,
 "cells": [
  {
   "source": [
    "# Loading data and traing a viral classifier on metagenomic sequences of mosquitoes\n",
    "\n",
    "## Import dependencies "
   ],
   "cell_type": "markdown",
   "metadata": {}
  },
  {
   "cell_type": "code",
   "execution_count": null,
   "metadata": {},
   "outputs": [],
   "source": [
    "import pandas as pd \n",
    "import numpy as np \n",
    "\n",
    "from torchmetagen.datasets.utils import FastaHandler, DatasetSplit, InflateDataset\n",
    "from torchmetagen.datasets import metagenomicdataset as meta\n",
    "from torchmetagen.models import DeepVirFinder, deepvirfinder\n",
    "from torchmetagen.transforms import *\n",
    "from torchvision import transforms as tf\n",
    "import torch\n",
    "\n",
    "from utils import *"
   ]
  },
  {
   "source": [
    "## Check for GPU devices"
   ],
   "cell_type": "markdown",
   "metadata": {}
  },
  {
   "cell_type": "code",
   "execution_count": null,
   "metadata": {},
   "outputs": [],
   "source": [
    "device =  torch.device(\"cuda:0\" if torch.cuda.is_available() else \"cpu\")"
   ]
  },
  {
   "cell_type": "code",
   "execution_count": null,
   "metadata": {},
   "outputs": [],
   "source": [
    "path_to_file = '~/Desktop/ViralClassificationAWS/torchmetagen/datasets/Dataset_v1_2'\n",
    "\n",
    "viral = FastaHandler(path_to_file, 'viral.fasta',)\n",
    "nonviral= FastaHandler(path_to_file, 'nonviral.fasta',)\n",
    "\n"
   ]
  },
  {
   "cell_type": "code",
   "execution_count": null,
   "metadata": {},
   "outputs": [],
   "source": [
    "splitter = DatasetSplit({'train':0.7,'val':0.3 })\n",
    "\n",
    "viral_train, viral_test= splitter(viral)\n",
    "nonviral_train, nonviral_test= splitter(nonviral)\n"
   ]
  },
  {
   "cell_type": "code",
   "execution_count": null,
   "metadata": {},
   "outputs": [],
   "source": [
    "\n",
    "inflate=InflateDataset(method='truncated', tol=0.5, chunk_size=500)\n",
    "\n",
    "viral_train_inflated = inflate(viral_train)\n",
    "viral_test_inflated = viral_test #inflate(viral_test)\n",
    "\n",
    "\n",
    "nonviral_train_inflated =  inflate(nonviral_train)\n",
    "nonviral_test_inflated = nonviral_test#inflate(nonviral_test)"
   ]
  },
  {
   "cell_type": "code",
   "execution_count": null,
   "metadata": {},
   "outputs": [],
   "source": [
    "transforms_train=tf.Compose([\n",
    "    ReverseComplement(),\n",
    "    ToOneHot(['G','T', 'C', 'A']),\n",
    "    ToTensor('one-hot')\n",
    "])\n",
    "\n",
    "transforms_test=tf.Compose([\n",
    "    ReverseComplement(),\n",
    "    ToOneHot(['G','T', 'C', 'A']),\n",
    "    ToTensor('one-hot')\n",
    "])\n",
    "\n",
    "\n",
    "dataset_train= meta.MetagenomicSequenceData(pd.DataFrame({\"data\":np.concatenate((nonviral_train_inflated, viral_train_inflated)),\n",
    "                                                          \"class\":np.concatenate((np.repeat(\"nonviral\",len(nonviral_train_inflated)),\n",
    "                                                                                  np.repeat(\"viral\",len(viral_train_inflated))))}),\n",
    "                                                     labels=['nonviral', 'viral'], transform=transforms_train)\n",
    "\n",
    "dataset_test= meta.MetagenomicSequenceData(pd.DataFrame({\"data\":np.concatenate((nonviral_test_inflated, viral_test_inflated)),\n",
    "                                                         \"class\":np.concatenate((np.repeat(\"nonviral\",len(nonviral_test_inflated)),\n",
    "                                                                                 np.repeat(\"viral\",len(viral_test_inflated))))}),\n",
    "                                                     labels=['nonviral', 'viral'], transform=transforms_test)\n",
    "\n",
    "dataset={'train': dataset_train, 'val': dataset_test}\n",
    "dataset_sizes = {'train':len(dataset_train), 'val':len(dataset_test)}"
   ]
  },
  {
   "cell_type": "code",
   "execution_count": null,
   "metadata": {},
   "outputs": [],
   "source": [
    "dataloaders = genDataLoader(dataset, {'train':250, 'val':1})"
   ]
  },
  {
   "cell_type": "code",
   "execution_count": null,
   "metadata": {},
   "outputs": [],
   "source": [
    "model_torch = deepvirfinder(pretrained=True, progress=True, M = 1000, K = 10, N = 1000)\n"
   ]
  },
  {
   "cell_type": "code",
   "execution_count": null,
   "metadata": {},
   "outputs": [],
   "source": [
    "\n",
    "#device =  torch.device(\"cuda:0\" if torch.cuda.is_available() else \"cpu\")\n",
    "optimizer = torch.optim.Adam(model_torch.parameters(), lr = 1e-4)\n",
    "criterion = torch.nn.BCELoss()\n",
    "scheduler = torch.optim.lr_scheduler.StepLR(optimizer,4)\n",
    "per_epoch, per_batch = train_model(model_torch.to(device), criterion, optimizer, \n",
    "                      scheduler, dataloaders, device, dataset_sizes, num_epochs=1)"
   ]
  },
  {
   "cell_type": "code",
   "execution_count": null,
   "metadata": {},
   "outputs": [],
   "source": [
    "\n",
    "\n",
    "pd.DataFrame(evaluate(model_torch.to(device), dataloaders['val'], device))"
   ]
  },
  {
   "cell_type": "code",
   "execution_count": null,
   "metadata": {},
   "outputs": [],
   "source": [
    "torch.save(checkpoint_3.state_dict(), './first_checkpoint.pth')"
   ]
  },
  {
   "cell_type": "code",
   "execution_count": null,
   "metadata": {},
   "outputs": [],
   "source": [
    "cp aliagned_t18.fasta  aliagned_t18_teste.fasta\n",
    "grep '>' aliagned_t18_teste.fasta  > temp_headers\n",
    "while read p\n",
    "do \n",
    " h_query=`echo $p| cut -f1 -d \" \"| cut -f2 -d \">\"`\n",
    " h_subject=`grep $h_query -A5 diamondx_t12_f0.out| grep \">\"|tr \">\" \"|\"`\n",
    " sed -i \"s/$h_query/$h_query $h_subject/g\" aliagned_t18_teste.fasta\n",
    "done < temp_headers\n",
    "\n",
    "fasta_formatter -i aliagned_t18_teste.fasta  -o aliagned_t18_teste_linear.fasta\n",
    "cp aliagned_t18.fasta  aliagned_t18_teste.fasta\n",
    "grep '>' aliagned_t18_teste.fasta  > temp_headers\n",
    "while read p\n",
    "do \n",
    " h_query=`echo $p| cut -f1 -d \" \"| cut -f2 -d \">\"`\n",
    " h_subject=`grep $h_query -A5 diamondx_t12_f0.out| grep \">\"|tr \">\" \"|\"`\n",
    " sed -i \"s/$h_query/$h_query $h_subject/g\" aliagned_t18_teste.fasta\n",
    "done < temp_headers\n",
    "\n",
    "fasta_formatter -i aliagned_t18_teste.fasta  -o aliagned_t18_teste_linear.fasta\n",
    "\n",
    "grep -A1 -i \"virus\" aliagned_t18_teste_linear.fasta > viral_blastx_hits.fasta\n",
    "\n",
    "grep '>' alia\n",
    "grep -A1 -i \"virus\" aliagned_t18_teste_linear.fasta > viral_blastx_hits.fasta\n",
    "\n",
    "grep '>' alia"
   ]
  }
 ]
}